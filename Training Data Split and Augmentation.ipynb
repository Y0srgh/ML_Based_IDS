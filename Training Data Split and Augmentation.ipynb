{
 "cells": [
  {
   "cell_type": "code",
   "execution_count": 1,
   "id": "f9b335ca",
   "metadata": {},
   "outputs": [],
   "source": [
    "import pandas as pd\n",
    "from sklearn.preprocessing import StandardScaler, LabelEncoder\n",
    "from sklearn.model_selection import train_test_split\n",
    "from sklearn.metrics import confusion_matrix\n",
    "import numpy as np \n",
    "import matplotlib.pyplot as plt\n",
    "import seaborn as sns"
   ]
  },
  {
   "cell_type": "code",
   "execution_count": 2,
   "id": "863d07b0",
   "metadata": {},
   "outputs": [],
   "source": [
    "train_df = pd.read_csv(\"./sampled_sdn_dataset.csv\")"
   ]
  },
  {
   "cell_type": "code",
   "execution_count": 3,
   "id": "ced95ceb",
   "metadata": {},
   "outputs": [
    {
     "name": "stdout",
     "output_type": "stream",
     "text": [
      "Index(['Dst Port', 'Protocol', 'Flow Duration', 'Tot Fwd Pkts', 'Tot Bwd Pkts',\n",
      "       'TotLen Fwd Pkts', 'TotLen Bwd Pkts', 'Fwd Pkt Len Max',\n",
      "       'Fwd Pkt Len Min', 'Fwd Pkt Len Mean', 'Fwd Pkt Len Std',\n",
      "       'Bwd Pkt Len Max', 'Bwd Pkt Len Min', 'Bwd Pkt Len Mean',\n",
      "       'Bwd Pkt Len Std', 'Flow Byts/s', 'Flow Pkts/s', 'Flow IAT Mean',\n",
      "       'Flow IAT Std', 'Flow IAT Max', 'Flow IAT Min', 'Fwd IAT Tot',\n",
      "       'Fwd IAT Mean', 'Fwd IAT Std', 'Fwd IAT Max', 'Fwd IAT Min',\n",
      "       'Bwd IAT Tot', 'Bwd IAT Mean', 'Bwd IAT Std', 'Bwd IAT Max',\n",
      "       'Bwd IAT Min', 'Fwd PSH Flags', 'Bwd PSH Flags', 'Fwd URG Flags',\n",
      "       'Bwd URG Flags', 'Fwd Header Len', 'Bwd Header Len', 'Fwd Pkts/s',\n",
      "       'Bwd Pkts/s', 'Pkt Len Min', 'Pkt Len Max', 'Pkt Len Mean',\n",
      "       'Pkt Len Std', 'Pkt Len Var', 'FIN Flag Cnt', 'SYN Flag Cnt',\n",
      "       'RST Flag Cnt', 'PSH Flag Cnt', 'ACK Flag Cnt', 'URG Flag Cnt',\n",
      "       'CWE Flag Count', 'ECE Flag Cnt', 'Down/Up Ratio', 'Pkt Size Avg',\n",
      "       'Fwd Seg Size Avg', 'Bwd Seg Size Avg', 'Fwd Byts/b Avg',\n",
      "       'Fwd Pkts/b Avg', 'Fwd Blk Rate Avg', 'Bwd Byts/b Avg',\n",
      "       'Bwd Pkts/b Avg', 'Bwd Blk Rate Avg', 'Subflow Fwd Pkts',\n",
      "       'Subflow Fwd Byts', 'Subflow Bwd Pkts', 'Subflow Bwd Byts',\n",
      "       'Init Fwd Win Byts', 'Init Bwd Win Byts', 'Fwd Act Data Pkts',\n",
      "       'Fwd Seg Size Min', 'Active Mean', 'Active Std', 'Active Max',\n",
      "       'Active Min', 'Idle Mean', 'Idle Std', 'Idle Max', 'Idle Min', 'Label',\n",
      "       'Src Port'],\n",
      "      dtype='object')\n"
     ]
    }
   ],
   "source": [
    "train_df.columns = train_df.columns.str.strip()\n",
    "print(train_df.columns)\n"
   ]
  },
  {
   "cell_type": "code",
   "execution_count": 4,
   "id": "a9df866d",
   "metadata": {},
   "outputs": [],
   "source": [
    "#selected features\n",
    "features = ['TotLen Fwd Pkts',\n",
    "       'TotLen Bwd Pkts', 'Fwd Pkt Len Max',\n",
    "       'Fwd Pkt Len Mean', 'Bwd Pkt Len Max',\n",
    "       'Bwd Pkt Len Min', 'Bwd Pkt Len Mean',\n",
    "       'Bwd Pkt Len Std', 'Flow Pkts/s', 'Flow IAT Max',\n",
    "       'Fwd IAT Tot', 'Fwd IAT Mean', 'Fwd IAT Std', 'Fwd IAT Max',\n",
    "       'Fwd Header Len', 'Pkt Len Max', 'Pkt Len Mean',\n",
    "       'Pkt Len Std', 'Pkt Len Var', 'PSH Flag Cnt',\n",
    "       'Pkt Size Avg', 'Fwd Seg Size Avg', 'Bwd Seg Size Avg',\n",
    "        'Subflow Fwd Byts', 'Subflow Bwd Byts',\n",
    "                   'Init Fwd Win Byts', 'Init Bwd Win Byts']"
   ]
  },
  {
   "cell_type": "code",
   "execution_count": 5,
   "id": "38b63e55",
   "metadata": {},
   "outputs": [
    {
     "data": {
      "text/plain": [
       "Label\n",
       "1    115238\n",
       "0     84762\n",
       "Name: count, dtype: int64"
      ]
     },
     "execution_count": 5,
     "metadata": {},
     "output_type": "execute_result"
    }
   ],
   "source": [
    "train_df[\"Label\"].value_counts()"
   ]
  },
  {
   "cell_type": "code",
   "execution_count": 6,
   "id": "844444dd",
   "metadata": {},
   "outputs": [],
   "source": [
    "features_to_keep = ['TotLen Fwd Pkts',\n",
    "       'TotLen Bwd Pkts', 'Fwd Pkt Len Max',\n",
    "       'Fwd Pkt Len Mean', 'Bwd Pkt Len Max',\n",
    "       'Bwd Pkt Len Min', 'Bwd Pkt Len Mean',\n",
    "       'Bwd Pkt Len Std', 'Flow Pkts/s', 'Flow IAT Max',\n",
    "       'Fwd IAT Tot', 'Fwd IAT Mean', 'Fwd IAT Std', 'Fwd IAT Max',\n",
    "       'Fwd Header Len', 'Pkt Len Max', 'Pkt Len Mean',\n",
    "       'Pkt Len Std', 'Pkt Len Var', 'PSH Flag Cnt',\n",
    "       'Pkt Size Avg', 'Fwd Seg Size Avg', 'Bwd Seg Size Avg',\n",
    "        'Subflow Fwd Byts', 'Subflow Bwd Byts',\n",
    "                   'Init Fwd Win Byts', 'Init Bwd Win Byts', 'Label']\n",
    "\n",
    "# Keep only the desired columns\n",
    "df = train_df[features_to_keep]"
   ]
  },
  {
   "cell_type": "code",
   "execution_count": 7,
   "id": "ae2e36bf",
   "metadata": {},
   "outputs": [
    {
     "name": "stdout",
     "output_type": "stream",
     "text": [
      "0         0\n",
      "1         1\n",
      "2         1\n",
      "3         0\n",
      "4         1\n",
      "         ..\n",
      "199995    1\n",
      "199996    1\n",
      "199997    1\n",
      "199998    1\n",
      "199999    0\n",
      "Name: Label, Length: 200000, dtype: int64\n",
      "Shape of X: (200000, 28)\n",
      "Shape of y: (200000,)\n"
     ]
    }
   ],
   "source": [
    "print(train_df['Label'])\n",
    "y = train_df[\"Label\"]\n",
    "X = train_df[features_to_keep]\n",
    "\n",
    "print(\"Shape of X:\", X.shape)\n",
    "print(\"Shape of y:\", y.shape)"
   ]
  },
  {
   "cell_type": "code",
   "execution_count": 8,
   "id": "da7fbbdf",
   "metadata": {},
   "outputs": [
    {
     "data": {
      "text/plain": [
       "Label\n",
       "1    115238\n",
       "0     84762\n",
       "Name: count, dtype: int64"
      ]
     },
     "execution_count": 8,
     "metadata": {},
     "output_type": "execute_result"
    }
   ],
   "source": [
    "df[\"Label\"].value_counts()"
   ]
  },
  {
   "cell_type": "code",
   "execution_count": 9,
   "id": "bcae7e8e",
   "metadata": {},
   "outputs": [],
   "source": [
    "# Seperating into different dataframes"
   ]
  },
  {
   "cell_type": "code",
   "execution_count": 10,
   "id": "24a7e77b",
   "metadata": {},
   "outputs": [
    {
     "name": "stdout",
     "output_type": "stream",
     "text": [
      "   TotLen Fwd Pkts  TotLen Bwd Pkts  Fwd Pkt Len Max  Fwd Pkt Len Mean  \\\n",
      "0             97.0            231.0             97.0         24.250000   \n",
      "1             20.0            964.0             20.0          6.666667   \n",
      "2             20.0            964.0             20.0          6.666667   \n",
      "3             37.0             53.0             37.0         37.000000   \n",
      "4              0.0              0.0              0.0          0.000000   \n",
      "\n",
      "   Bwd Pkt Len Max  Bwd Pkt Len Min  Bwd Pkt Len Mean  Bwd Pkt Len Std  \\\n",
      "0            231.0              0.0             57.75            115.5   \n",
      "1            964.0              0.0            241.00            482.0   \n",
      "2            964.0              0.0            241.00            482.0   \n",
      "3             53.0             53.0             53.00              0.0   \n",
      "4              0.0              0.0              0.00              0.0   \n",
      "\n",
      "   Flow Pkts/s  Flow IAT Max  ...    Pkt Len Var  PSH Flag Cnt  Pkt Size Avg  \\\n",
      "0     1.473726      100000.0  ...    6352.027778             1     41.000000   \n",
      "1     4.524109      100000.0  ...  100000.000000             1    140.571429   \n",
      "2     4.167446      100000.0  ...  100000.000000             1    140.571429   \n",
      "3  1629.991850        1227.0  ...      85.333333             0     63.500000   \n",
      "4     0.082798      100000.0  ...       0.000000             0      0.000000   \n",
      "\n",
      "   Fwd Seg Size Avg  Bwd Seg Size Avg  Subflow Fwd Byts  Subflow Bwd Byts  \\\n",
      "0         24.250000             57.75                97               231   \n",
      "1          6.666667            241.00                20               964   \n",
      "2          6.666667            241.00                20               964   \n",
      "3         37.000000             53.00                37                53   \n",
      "4          0.000000              0.00                 0                 0   \n",
      "\n",
      "   Init Fwd Win Byts  Init Bwd Win Byts  Label  \n",
      "0               8192                141      0  \n",
      "1               8192                211      1  \n",
      "2               8192                211      1  \n",
      "3                 -1                 -1      0  \n",
      "4               2049                 -1      1  \n",
      "\n",
      "[5 rows x 28 columns]\n"
     ]
    }
   ],
   "source": [
    "# List of class labels you want to keep\n",
    "selected_classes = [1,0]\n",
    "\n",
    "# Filter the original dataframe to include only the selected classes\n",
    "filtered_df = df[df['Label'].isin(selected_classes)]\n",
    "print(filtered_df.head())\n",
    "# Export the filtered dataframe to a CSV file\n",
    "filtered_df.to_csv('High_samples_RF.csv', index=False)"
   ]
  },
  {
   "cell_type": "code",
   "execution_count": 11,
   "id": "127fe1be",
   "metadata": {},
   "outputs": [],
   "source": [
    "# List of class labels you want to keep\n",
    "selected_classes = [0,1]\n",
    "\n",
    "# Filter the original dataframe to include only the selected classes\n",
    "filtered_df2 = df[df['Label'].isin(selected_classes)]\n",
    "\n",
    "# Export the filtered dataframe to a CSV file\n",
    "filtered_df2.to_csv('Mid_samples_RF.csv', index=False)"
   ]
  },
  {
   "cell_type": "code",
   "execution_count": 12,
   "id": "384a3f6a",
   "metadata": {},
   "outputs": [],
   "source": [
    "## Smote experiment on minority class in Low_samples file "
   ]
  },
  {
   "cell_type": "code",
   "execution_count": 13,
   "id": "a9ff8fe5",
   "metadata": {},
   "outputs": [],
   "source": [
    "import pandas as pd\n",
    "import numpy as np\n",
    "from imblearn.over_sampling import SMOTE\n",
    "\n",
    "# Load the data from CSV\n",
    "df = pd.read_csv('Mid_samples_RF.csv')\n",
    "\n",
    "# Clean the dataset\n",
    "def clean_dataset(df):\n",
    "    assert isinstance(df, pd.DataFrame)\n",
    "    \n",
    "    # Drop rows with missing values\n",
    "    df.dropna(inplace=True)\n",
    "    \n",
    "    # Drop rows with infinity or negative infinity\n",
    "    indices_to_keep = ~df.isin([np.nan, np.inf, -np.inf]).any(axis=1)\n",
    "    df = df[indices_to_keep]\n",
    "\n",
    "    return df\n",
    "\n",
    "cleaned_df = clean_dataset(df)\n",
    "\n",
    "# Encode categorical labels\n",
    "label_encoder = LabelEncoder()\n",
    "cleaned_df['Label'] = label_encoder.fit_transform(cleaned_df['Label'])\n"
   ]
  },
  {
   "cell_type": "code",
   "execution_count": 14,
   "id": "cf82a76c",
   "metadata": {},
   "outputs": [
    {
     "name": "stdout",
     "output_type": "stream",
     "text": [
      "0         0\n",
      "1         1\n",
      "2         1\n",
      "3         0\n",
      "4         1\n",
      "         ..\n",
      "199995    1\n",
      "199996    1\n",
      "199997    1\n",
      "199998    1\n",
      "199999    0\n",
      "Name: Label, Length: 200000, dtype: int64\n"
     ]
    }
   ],
   "source": [
    "# Separate features and labels\n",
    "X = cleaned_df.drop(columns=['Label'])\n",
    "y = cleaned_df['Label']\n",
    "print(y)\n",
    "# Apply SMOTE to balance classes with desired ratios\n",
    "smote = SMOTE(sampling_strategy=0.9, random_state=42)\n"
   ]
  },
  {
   "cell_type": "code",
   "execution_count": 15,
   "id": "0c9a139e",
   "metadata": {},
   "outputs": [
    {
     "name": "stdout",
     "output_type": "stream",
     "text": [
      "Class distribution before SMOTE:\n",
      "Label\n",
      "1    115238\n",
      "0     84762\n",
      "Name: count, dtype: int64\n"
     ]
    }
   ],
   "source": [
    "print(\"Class distribution before SMOTE:\")\n",
    "print(y.value_counts())\n"
   ]
  },
  {
   "cell_type": "code",
   "execution_count": 16,
   "id": "15e99e9e",
   "metadata": {},
   "outputs": [],
   "source": [
    "X_resampled, y_resampled = smote.fit_resample(X, y)\n",
    "\n",
    "# Create a new DataFrame for the resampled data\n",
    "resampled_df = pd.DataFrame(X_resampled, columns=X.columns)\n",
    "resampled_df['Label'] = y_resampled\n",
    "\n",
    "# Add a 'data_type' column to indicate whether the data is original or augmented\n",
    "cleaned_df['data_type'] = 'Original'\n",
    "resampled_df['data_type'] = 'Augmented'\n",
    "\n",
    "# Concatenate the original and augmented dataframes\n",
    "final_df = pd.concat([cleaned_df, resampled_df], ignore_index=True)\n",
    "\n",
    "# Decode the categorical labels back to original values\n",
    "final_df['Label'] = label_encoder.inverse_transform(final_df['Label'])"
   ]
  },
  {
   "cell_type": "code",
   "execution_count": 17,
   "id": "d9359794",
   "metadata": {},
   "outputs": [
    {
     "name": "stdout",
     "output_type": "stream",
     "text": [
      "Number of Augmented instances with Label '0': 103714\n",
      "Number of Augmented instances with Label '1': 115238\n"
     ]
    }
   ],
   "source": [
    "# Cheking number of augmented and original data per class\n",
    "augmented_heartbleed_count = final_df[(final_df['data_type'] == 'Augmented') & (final_df['Label'] == 0)].shape[0]\n",
    "print(\"Number of Augmented instances with Label '0':\", augmented_heartbleed_count)\n",
    "\n",
    "augmented_heartbleed_count = final_df[(final_df['data_type'] == 'Augmented') & (final_df['Label'] == 1)].shape[0]\n",
    "print(\"Number of Augmented instances with Label '1':\", augmented_heartbleed_count)\n"
   ]
  },
  {
   "cell_type": "code",
   "execution_count": 18,
   "id": "42e82263",
   "metadata": {},
   "outputs": [],
   "source": [
    "#Now I'll drop the augmented data from majority class to match expected number of samples"
   ]
  },
  {
   "cell_type": "code",
   "execution_count": 19,
   "id": "9f8a9f10",
   "metadata": {},
   "outputs": [],
   "source": [
    "final_df = final_df.drop(final_df[(final_df['Label'] == 1) & (final_df['data_type'] == 'Augmented')].index)\n"
   ]
  },
  {
   "cell_type": "code",
   "execution_count": 20,
   "id": "ba71d60c",
   "metadata": {},
   "outputs": [
    {
     "data": {
      "text/plain": [
       "Label\n",
       "1    115238\n",
       "0     84762\n",
       "Name: count, dtype: int64"
      ]
     },
     "execution_count": 20,
     "metadata": {},
     "output_type": "execute_result"
    }
   ],
   "source": [
    "df[\"Label\"].value_counts()"
   ]
  },
  {
   "cell_type": "code",
   "execution_count": 21,
   "id": "054d8acd",
   "metadata": {},
   "outputs": [
    {
     "data": {
      "text/plain": [
       "Label\n",
       "0    188476\n",
       "1    115238\n",
       "Name: count, dtype: int64"
      ]
     },
     "execution_count": 21,
     "metadata": {},
     "output_type": "execute_result"
    }
   ],
   "source": [
    "final_df[\"Label\"].value_counts()"
   ]
  },
  {
   "cell_type": "code",
   "execution_count": 22,
   "id": "5767051b",
   "metadata": {},
   "outputs": [],
   "source": [
    "final_df.to_csv('Low_samples_Aug_RF.csv', index=False)"
   ]
  },
  {
   "cell_type": "code",
   "execution_count": 23,
   "id": "aba808e9",
   "metadata": {},
   "outputs": [],
   "source": [
    "#Working with High Samples"
   ]
  },
  {
   "cell_type": "code",
   "execution_count": 24,
   "id": "12af2006",
   "metadata": {},
   "outputs": [],
   "source": [
    "import pandas as pd\n",
    "import numpy as np\n",
    "from imblearn.over_sampling import SMOTE\n",
    "\n",
    "# Load the data from CSV\n",
    "df = pd.read_csv('High_samples_RF.csv')\n",
    "\n",
    "# Clean the dataset\n",
    "def clean_dataset(df):\n",
    "    assert isinstance(df, pd.DataFrame)\n",
    "    \n",
    "    # Drop rows with missing values\n",
    "    df.dropna(inplace=True)\n",
    "    \n",
    "    # Drop rows with infinity or negative infinity\n",
    "    indices_to_keep = ~df.isin([np.nan, np.inf, -np.inf]).any(axis=1)\n",
    "    df = df[indices_to_keep]\n",
    "\n",
    "    return df\n",
    "\n",
    "cleaned_df = clean_dataset(df)\n",
    "\n",
    "# Encode categorical labels\n",
    "label_encoder = LabelEncoder()\n",
    "cleaned_df['Label'] = label_encoder.fit_transform(cleaned_df['Label'])"
   ]
  },
  {
   "cell_type": "code",
   "execution_count": 25,
   "id": "fc6efad8",
   "metadata": {},
   "outputs": [],
   "source": [
    "#Downsample Benign Samples"
   ]
  },
  {
   "cell_type": "code",
   "execution_count": 26,
   "id": "b22afb8e",
   "metadata": {},
   "outputs": [],
   "source": [
    "from sklearn.utils import resample"
   ]
  },
  {
   "cell_type": "code",
   "execution_count": 27,
   "id": "fa13065b",
   "metadata": {},
   "outputs": [],
   "source": [
    "majority_class = 1\n",
    "minority_classes = [0]\n"
   ]
  },
  {
   "cell_type": "code",
   "execution_count": 28,
   "id": "1d094349",
   "metadata": {},
   "outputs": [],
   "source": [
    "majority_samples = df[df['Label'] == majority_class]\n",
    "minority_samples = df[df['Label'].isin(minority_classes)]"
   ]
  },
  {
   "cell_type": "code",
   "execution_count": 29,
   "id": "95c54cae",
   "metadata": {},
   "outputs": [],
   "source": [
    "# Downsample majority class\n",
    "minority_class_size = len(minority_samples)\n",
    "downsampled_majority = resample(majority_samples,\n",
    "                                replace=False,  # Without replacement\n",
    "                                n_samples=minority_class_size,  # Desired number of samples\n",
    "                                random_state=42)  # For reproducibility\n"
   ]
  },
  {
   "cell_type": "code",
   "execution_count": 30,
   "id": "71a89c87",
   "metadata": {},
   "outputs": [],
   "source": [
    "# Combine minority and downsampled majority samples\n",
    "balanced_dataset = pd.concat([downsampled_majority, minority_samples])"
   ]
  },
  {
   "cell_type": "code",
   "execution_count": 31,
   "id": "379245a5",
   "metadata": {},
   "outputs": [],
   "source": [
    "# Shuffle the dataset to ensure randomness\n",
    "balanced_dataset = balanced_dataset.sample(frac=1, random_state=42)"
   ]
  },
  {
   "cell_type": "code",
   "execution_count": 32,
   "id": "e0b3ebfe",
   "metadata": {},
   "outputs": [
    {
     "data": {
      "text/plain": [
       "Label\n",
       "1    84762\n",
       "0    84762\n",
       "Name: count, dtype: int64"
      ]
     },
     "execution_count": 32,
     "metadata": {},
     "output_type": "execute_result"
    }
   ],
   "source": [
    "balanced_dataset[\"Label\"].value_counts()"
   ]
  },
  {
   "cell_type": "code",
   "execution_count": 33,
   "id": "2af06016",
   "metadata": {},
   "outputs": [],
   "source": [
    "#No need of augmenting the data for this class. I'll just export it in a csv file"
   ]
  },
  {
   "cell_type": "code",
   "execution_count": 34,
   "id": "67f4a8d0",
   "metadata": {},
   "outputs": [],
   "source": [
    "balanced_dataset.to_csv('High_samples_Aug_RF.csv', index=False)"
   ]
  },
  {
   "cell_type": "code",
   "execution_count": null,
   "id": "1cea9703",
   "metadata": {},
   "outputs": [],
   "source": []
  },
  {
   "cell_type": "code",
   "execution_count": 35,
   "id": "c1de4d28",
   "metadata": {},
   "outputs": [],
   "source": [
    "#Now I'll make one final copy of all augmented data. "
   ]
  },
  {
   "cell_type": "code",
   "execution_count": 36,
   "id": "d3a86466",
   "metadata": {},
   "outputs": [],
   "source": [
    "df1 = pd.read_csv(\"Low_samples_Aug_RF.csv\")\n",
    "#df2 = pd.read_csv(\"Mid_samples_Aug_RF.csv\")  # in actual training, original distribution was used\n",
    "df3 = pd.read_csv(\"High_samples_Aug_RF.csv\")"
   ]
  },
  {
   "cell_type": "code",
   "execution_count": 37,
   "id": "22e8a9fa",
   "metadata": {},
   "outputs": [],
   "source": [
    "df = pd.concat([df1, df3], ignore_index=True)"
   ]
  },
  {
   "cell_type": "code",
   "execution_count": 38,
   "id": "8e46dc8d",
   "metadata": {},
   "outputs": [],
   "source": [
    "df.to_csv('Train_Aug_RF.csv', index=False)"
   ]
  },
  {
   "cell_type": "code",
   "execution_count": null,
   "id": "02d040ad",
   "metadata": {},
   "outputs": [],
   "source": []
  }
 ],
 "metadata": {
  "kernelspec": {
   "display_name": "Atelier_ML",
   "language": "python",
   "name": "python3"
  },
  "language_info": {
   "codemirror_mode": {
    "name": "ipython",
    "version": 3
   },
   "file_extension": ".py",
   "mimetype": "text/x-python",
   "name": "python",
   "nbconvert_exporter": "python",
   "pygments_lexer": "ipython3",
   "version": "3.8.18"
  }
 },
 "nbformat": 4,
 "nbformat_minor": 5
}
